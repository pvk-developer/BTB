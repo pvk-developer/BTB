{
 "cells": [
  {
   "cell_type": "code",
   "execution_count": 57,
   "metadata": {},
   "outputs": [],
   "source": [
    "from mlblocks import MLPipeline\n",
    "from mlblocks.discovery import find_primitives, find_pipelines, load_pipeline\n",
    "\n",
    "from btb.tuning import Tunable"
   ]
  },
  {
   "cell_type": "code",
   "execution_count": 58,
   "metadata": {},
   "outputs": [],
   "source": [
    "pipeline = load_pipeline('single_table.classification.xgb')"
   ]
  },
  {
   "cell_type": "code",
   "execution_count": 59,
   "metadata": {},
   "outputs": [],
   "source": [
    "pipeline = MLPipeline(pipeline)"
   ]
  },
  {
   "cell_type": "code",
   "execution_count": 60,
   "metadata": {},
   "outputs": [
    {
     "data": {
      "text/plain": [
       "{('mlprimitives.custom.feature_extraction.CategoricalEncoder#1',\n",
       "  'max_labels'): {'type': 'int', 'default': 0, 'range': [0, 100]},\n",
       " ('sklearn.impute.SimpleImputer#1', 'strategy'): {'type': 'str',\n",
       "  'default': 'mean',\n",
       "  'values': ['mean', 'median', 'most_frequent', 'constant']},\n",
       " ('xgboost.XGBClassifier#1', 'n_estimators'): {'type': 'int',\n",
       "  'default': 100,\n",
       "  'range': [10, 1000]},\n",
       " ('xgboost.XGBClassifier#1', 'max_depth'): {'type': 'int',\n",
       "  'default': 3,\n",
       "  'range': [3, 10]},\n",
       " ('xgboost.XGBClassifier#1', 'learning_rate'): {'type': 'float',\n",
       "  'default': 0.1,\n",
       "  'range': [0, 1]},\n",
       " ('xgboost.XGBClassifier#1', 'gamma'): {'type': 'float',\n",
       "  'default': 0,\n",
       "  'range': [0, 1]},\n",
       " ('xgboost.XGBClassifier#1', 'min_child_weight'): {'type': 'int',\n",
       "  'default': 1,\n",
       "  'range': [1, 10]}}"
      ]
     },
     "execution_count": 60,
     "metadata": {},
     "output_type": "execute_result"
    }
   ],
   "source": [
    "pipeline.get_tunable_hyperparameters(flat=True)"
   ]
  },
  {
   "cell_type": "code",
   "execution_count": 131,
   "metadata": {},
   "outputs": [],
   "source": [
    "tunable = Tunable.from_dict(pipeline.get_tunable_hyperparameters(flat=True))"
   ]
  },
  {
   "cell_type": "code",
   "execution_count": 132,
   "metadata": {},
   "outputs": [],
   "source": [
    "from btb.tuning import GPTuner"
   ]
  },
  {
   "cell_type": "code",
   "execution_count": 133,
   "metadata": {},
   "outputs": [],
   "source": [
    "gp = GPTuner(tunable)"
   ]
  },
  {
   "cell_type": "code",
   "execution_count": 134,
   "metadata": {},
   "outputs": [],
   "source": [
    "proposal = gp.propose()"
   ]
  },
  {
   "cell_type": "code",
   "execution_count": 135,
   "metadata": {},
   "outputs": [
    {
     "data": {
      "text/plain": [
       "{('mlprimitives.custom.feature_extraction.CategoricalEncoder#1',\n",
       "  'max_labels'): 0,\n",
       " ('sklearn.impute.SimpleImputer#1', 'strategy'): 'mean',\n",
       " ('xgboost.XGBClassifier#1', 'n_estimators'): 100,\n",
       " ('xgboost.XGBClassifier#1', 'max_depth'): 3,\n",
       " ('xgboost.XGBClassifier#1', 'learning_rate'): 0.1,\n",
       " ('xgboost.XGBClassifier#1', 'gamma'): 0.0,\n",
       " ('xgboost.XGBClassifier#1', 'min_child_weight'): 1}"
      ]
     },
     "execution_count": 135,
     "metadata": {},
     "output_type": "execute_result"
    }
   ],
   "source": [
    "proposal"
   ]
  },
  {
   "cell_type": "code",
   "execution_count": 112,
   "metadata": {},
   "outputs": [
    {
     "data": {
      "text/plain": [
       "{'mlprimitives.custom.preprocessing.ClassEncoder#1': {},\n",
       " 'mlprimitives.custom.feature_extraction.CategoricalEncoder#1': {'keep': False,\n",
       "  'copy': True,\n",
       "  'features': 'auto',\n",
       "  'max_unique_ratio': 0,\n",
       "  'max_labels': 69},\n",
       " 'sklearn.impute.SimpleImputer#1': {'missing_values': nan,\n",
       "  'fill_value': None,\n",
       "  'verbose': False,\n",
       "  'copy': True,\n",
       "  'strategy': 'constant'},\n",
       " 'xgboost.XGBClassifier#1': {'n_jobs': 1,\n",
       "  'n_estimators': 217,\n",
       "  'max_depth': 5,\n",
       "  'learning_rate': 0.43501472587626444,\n",
       "  'gamma': 0.9034807452553143,\n",
       "  'min_child_weight': 5},\n",
       " 'mlprimitives.custom.preprocessing.ClassDecoder#1': {}}"
      ]
     },
     "execution_count": 112,
     "metadata": {},
     "output_type": "execute_result"
    }
   ],
   "source": [
    "pipeline.get_hyperparameters()"
   ]
  },
  {
   "cell_type": "code",
   "execution_count": 113,
   "metadata": {},
   "outputs": [
    {
     "data": {
      "text/plain": [
       "{('mlprimitives.custom.feature_extraction.CategoricalEncoder#1',\n",
       "  'max_labels'): 87,\n",
       " ('sklearn.impute.SimpleImputer#1', 'strategy'): 'constant',\n",
       " ('xgboost.XGBClassifier#1', 'n_estimators'): 538,\n",
       " ('xgboost.XGBClassifier#1', 'max_depth'): 3,\n",
       " ('xgboost.XGBClassifier#1', 'learning_rate'): 0.6031543580988897,\n",
       " ('xgboost.XGBClassifier#1', 'gamma'): 0.7928338477253206,\n",
       " ('xgboost.XGBClassifier#1', 'min_child_weight'): 3}"
      ]
     },
     "execution_count": 113,
     "metadata": {},
     "output_type": "execute_result"
    }
   ],
   "source": [
    "proposal "
   ]
  },
  {
   "cell_type": "code",
   "execution_count": 117,
   "metadata": {},
   "outputs": [],
   "source": [
    "def _unflatten_dict(hp):\n",
    "    unflatten = {}\n",
    "    for name, value in hp.items():\n",
    "        block, name = name\n",
    "        \n",
    "        if unflatten.get(block) is None:\n",
    "            unflatten[block] = {}\n",
    "            \n",
    "        unflatten[block][name] = value\n",
    "        \n",
    "    return unflatten"
   ]
  },
  {
   "cell_type": "code",
   "execution_count": 118,
   "metadata": {},
   "outputs": [
    {
     "data": {
      "text/plain": [
       "defaultdict(dict,\n",
       "            {'mlprimitives.custom.feature_extraction.CategoricalEncoder#1': {'max_labels': 87},\n",
       "             'sklearn.impute.SimpleImputer#1': {'strategy': 'constant'},\n",
       "             'xgboost.XGBClassifier#1': {'n_estimators': 538,\n",
       "              'max_depth': 3,\n",
       "              'learning_rate': 0.6031543580988897,\n",
       "              'gamma': 0.7928338477253206,\n",
       "              'min_child_weight': 3}})"
      ]
     },
     "execution_count": 118,
     "metadata": {},
     "output_type": "execute_result"
    }
   ],
   "source": [
    "pipeline._sanitize(proposal)"
   ]
  },
  {
   "cell_type": "code",
   "execution_count": 125,
   "metadata": {},
   "outputs": [],
   "source": [
    "proposal = gp.propose()"
   ]
  },
  {
   "cell_type": "code",
   "execution_count": 126,
   "metadata": {},
   "outputs": [
    {
     "data": {
      "text/plain": [
       "{('mlprimitives.custom.feature_extraction.CategoricalEncoder#1',\n",
       "  'max_labels'): 98,\n",
       " ('sklearn.impute.SimpleImputer#1', 'strategy'): 'most_frequent',\n",
       " ('xgboost.XGBClassifier#1', 'n_estimators'): 72,\n",
       " ('xgboost.XGBClassifier#1', 'max_depth'): 9,\n",
       " ('xgboost.XGBClassifier#1', 'learning_rate'): 0.513720787759194,\n",
       " ('xgboost.XGBClassifier#1', 'gamma'): 0.5296387277932323,\n",
       " ('xgboost.XGBClassifier#1', 'min_child_weight'): 6}"
      ]
     },
     "execution_count": 126,
     "metadata": {},
     "output_type": "execute_result"
    }
   ],
   "source": [
    "proposal"
   ]
  },
  {
   "cell_type": "code",
   "execution_count": 122,
   "metadata": {},
   "outputs": [],
   "source": [
    "pipeline.set_hyperparameters(proposal)"
   ]
  },
  {
   "cell_type": "code",
   "execution_count": 123,
   "metadata": {},
   "outputs": [
    {
     "data": {
      "text/plain": [
       "{'mlprimitives.custom.preprocessing.ClassEncoder#1': {},\n",
       " 'mlprimitives.custom.feature_extraction.CategoricalEncoder#1': {'keep': False,\n",
       "  'copy': True,\n",
       "  'features': 'auto',\n",
       "  'max_unique_ratio': 0,\n",
       "  'max_labels': 19},\n",
       " 'sklearn.impute.SimpleImputer#1': {'missing_values': nan,\n",
       "  'fill_value': None,\n",
       "  'verbose': False,\n",
       "  'copy': True,\n",
       "  'strategy': 'most_frequent'},\n",
       " 'xgboost.XGBClassifier#1': {'n_jobs': 1,\n",
       "  'n_estimators': 986,\n",
       "  'max_depth': 7,\n",
       "  'learning_rate': 0.49716230552731044,\n",
       "  'gamma': 0.2233584655267432,\n",
       "  'min_child_weight': 3},\n",
       " 'mlprimitives.custom.preprocessing.ClassDecoder#1': {}}"
      ]
     },
     "execution_count": 123,
     "metadata": {},
     "output_type": "execute_result"
    }
   ],
   "source": [
    "pipeline.get_hyperparameters()"
   ]
  },
  {
   "cell_type": "code",
   "execution_count": 124,
   "metadata": {},
   "outputs": [
    {
     "data": {
      "text/plain": [
       "{'mlprimitives.custom.preprocessing.ClassEncoder#1': {},\n",
       " 'mlprimitives.custom.feature_extraction.CategoricalEncoder#1': {'max_labels': {'type': 'int',\n",
       "   'default': 0,\n",
       "   'range': [0, 100]}},\n",
       " 'sklearn.impute.SimpleImputer#1': {'strategy': {'type': 'str',\n",
       "   'default': 'mean',\n",
       "   'values': ['mean', 'median', 'most_frequent', 'constant']}},\n",
       " 'xgboost.XGBClassifier#1': {'n_estimators': {'type': 'int',\n",
       "   'default': 100,\n",
       "   'range': [10, 1000]},\n",
       "  'max_depth': {'type': 'int', 'default': 3, 'range': [3, 10]},\n",
       "  'learning_rate': {'type': 'float', 'default': 0.1, 'range': [0, 1]},\n",
       "  'gamma': {'type': 'float', 'default': 0, 'range': [0, 1]},\n",
       "  'min_child_weight': {'type': 'int', 'default': 1, 'range': [1, 10]}},\n",
       " 'mlprimitives.custom.preprocessing.ClassDecoder#1': {}}"
      ]
     },
     "execution_count": 124,
     "metadata": {},
     "output_type": "execute_result"
    }
   ],
   "source": [
    "pipeline.get_tunable_hyperparameters()"
   ]
  },
  {
   "cell_type": "code",
   "execution_count": 13,
   "metadata": {},
   "outputs": [],
   "source": [
    "import mlblocks"
   ]
  },
  {
   "cell_type": "code",
   "execution_count": 14,
   "metadata": {},
   "outputs": [
    {
     "data": {
      "text/plain": [
       "'0.3.4'"
      ]
     },
     "execution_count": 14,
     "metadata": {},
     "output_type": "execute_result"
    }
   ],
   "source": [
    "mlblocks.__version__"
   ]
  },
  {
   "cell_type": "code",
   "execution_count": 10,
   "metadata": {},
   "outputs": [],
   "source": [
    "from btb.tuning import IntHyperParam"
   ]
  },
  {
   "cell_type": "code",
   "execution_count": 15,
   "metadata": {},
   "outputs": [],
   "source": [
    "for name, myau in primitive.get_tunable_hyperparameters().items():\n",
    "    if myau['type'] == 'int':\n",
    "        ihp = IntHyperParam(min=min(myau['range']), max=max(myau['range']))"
   ]
  },
  {
   "cell_type": "code",
   "execution_count": 18,
   "metadata": {},
   "outputs": [
    {
     "data": {
      "text/plain": [
       "100"
      ]
     },
     "execution_count": 18,
     "metadata": {},
     "output_type": "execute_result"
    }
   ],
   "source": [
    "ihp.max"
   ]
  },
  {
   "cell_type": "code",
   "execution_count": 6,
   "metadata": {},
   "outputs": [],
   "source": [
    "x = None or 1"
   ]
  },
  {
   "cell_type": "code",
   "execution_count": 7,
   "metadata": {},
   "outputs": [
    {
     "data": {
      "text/plain": [
       "1"
      ]
     },
     "execution_count": 7,
     "metadata": {},
     "output_type": "execute_result"
    }
   ],
   "source": [
    "x"
   ]
  },
  {
   "cell_type": "code",
   "execution_count": 8,
   "metadata": {},
   "outputs": [
    {
     "data": {
      "text/plain": [
       "1.0"
      ]
     },
     "execution_count": 8,
     "metadata": {},
     "output_type": "execute_result"
    }
   ],
   "source": [
    "float(1)"
   ]
  },
  {
   "cell_type": "code",
   "execution_count": null,
   "metadata": {},
   "outputs": [],
   "source": []
  }
 ],
 "metadata": {
  "kernelspec": {
   "display_name": "Python 3",
   "language": "python",
   "name": "python3"
  },
  "language_info": {
   "codemirror_mode": {
    "name": "ipython",
    "version": 3
   },
   "file_extension": ".py",
   "mimetype": "text/x-python",
   "name": "python",
   "nbconvert_exporter": "python",
   "pygments_lexer": "ipython3",
   "version": "3.6.9"
  }
 },
 "nbformat": 4,
 "nbformat_minor": 2
}
