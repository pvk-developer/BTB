{
 "cells": [
  {
   "cell_type": "code",
   "execution_count": 1,
   "metadata": {},
   "outputs": [],
   "source": [
    "import warnings\n",
    "\n",
    "warnings.filterwarnings('ignore')"
   ]
  },
  {
   "cell_type": "code",
   "execution_count": 2,
   "metadata": {},
   "outputs": [],
   "source": [
    "from sklearn.datasets import load_boston as load_dataset\n",
    "\n",
    "dataset = load_dataset()"
   ]
  },
  {
   "cell_type": "code",
   "execution_count": 3,
   "metadata": {},
   "outputs": [],
   "source": [
    "from sklearn.model_selection import train_test_split\n",
    "\n",
    "X_train, X_test, y_train, y_test = train_test_split(\n",
    "    dataset.data, dataset.target, test_size=0.3, random_state=0)"
   ]
  },
  {
   "cell_type": "code",
   "execution_count": 4,
   "metadata": {},
   "outputs": [],
   "source": [
    "from sklearn.metrics import r2_score"
   ]
  },
  {
   "cell_type": "code",
   "execution_count": 5,
   "metadata": {},
   "outputs": [
    {
     "data": {
      "text/plain": [
       "0.7149946643194653"
      ]
     },
     "execution_count": 5,
     "metadata": {},
     "output_type": "execute_result"
    }
   ],
   "source": [
    "from sklearn.ensemble import RandomForestRegressor\n",
    "from sklearn.ensemble import ExtraTreesRegressor\n",
    "\n",
    "# NOTE: The default hyperparameters are intentionally bad\n",
    "# to give more room for improvement during the BTBSession demo\n",
    "default_hyperparams = {\n",
    "    'n_estimators': 2,\n",
    "    'max_features': 'log2',\n",
    "    'min_samples_split': 2,\n",
    "    'min_samples_leaf': 2,\n",
    "}\n",
    "\n",
    "rf = RandomForestRegressor(random_state=0, **default_hyperparams)\n",
    "\n",
    "rf.fit(X_train, y_train)\n",
    "pred = rf.predict(X_test)\n",
    "\n",
    "r2_score(y_test, pred)"
   ]
  },
  {
   "cell_type": "code",
   "execution_count": 6,
   "metadata": {},
   "outputs": [],
   "source": [
    "tunables = {\n",
    "    'random_forest': {\n",
    "        'n_estimators': {'type': 'int', 'default': 2, 'range': [1, 1000]},\n",
    "        'max_features': {'type': 'str', 'default': 'log2', 'range': [None, 'auto', 'log2', 'sqrt']},\n",
    "        'min_samples_split': {'type': 'int', 'default': 2, 'range': [2, 20]},\n",
    "        'min_samples_leaf': {'type': 'int', 'default': 2, 'range': [1, 20]},\n",
    "    },\n",
    "    'extra_trees': {\n",
    "        'n_estimators': {'type': 'int', 'default': 2, 'range': [1, 1000]},\n",
    "        'max_features': {'type': 'str', 'default': 'log2', 'range': [None, 'auto', 'log2', 'sqrt']},\n",
    "        'min_samples_split': {'type': 'int', 'default': 2, 'range': [2, 20]},\n",
    "        'min_samples_leaf': {'type': 'int', 'default': 2, 'range': [1, 20]},\n",
    "    }\n",
    "}"
   ]
  },
  {
   "cell_type": "code",
   "execution_count": 23,
   "metadata": {},
   "outputs": [],
   "source": [
    "from sklearn.model_selection import cross_val_score\n",
    "from sklearn.metrics import make_scorer\n",
    "\n",
    "models = {\n",
    "    'random_forest': RandomForestRegressor,\n",
    "    'extra_trees': ExtraTreesRegressor,\n",
    "}\n",
    "\n",
    "def build_model(name, hyperparameters):\n",
    "    model_class = models[name]\n",
    "    return model_class(random_state=0, **hyperparameters)\n",
    "\n",
    "def score_model(name, hyperparameters):\n",
    "    model = build_model(name, hyperparameters)\n",
    "    r2_scorer = make_scorer(r2_score)\n",
    "    scores = cross_val_score(model, X_train, y_train, scoring=r2_scorer)\n",
    "    return scores.mean()"
   ]
  },
  {
   "cell_type": "code",
   "execution_count": 21,
   "metadata": {},
   "outputs": [
    {
     "name": "stdout",
     "output_type": "stream",
     "text": [
      "5.83 ms ± 46.8 µs per loop (mean ± std. dev. of 7 runs, 100 loops each)\n"
     ]
    }
   ],
   "source": [
    "%timeit score_model('random_forest', default_hyperparams)"
   ]
  },
  {
   "cell_type": "code",
   "execution_count": 22,
   "metadata": {},
   "outputs": [
    {
     "name": "stdout",
     "output_type": "stream",
     "text": [
      "4.98 ms ± 23.3 µs per loop (mean ± std. dev. of 7 runs, 100 loops each)\n"
     ]
    }
   ],
   "source": [
    "%timeit score_model('extra_trees', default_hyperparams)"
   ]
  },
  {
   "cell_type": "code",
   "execution_count": 53,
   "metadata": {},
   "outputs": [],
   "source": [
    "from btb.session import BTBSession\n",
    "\n",
    "session = BTBSession(tunables, score_model, verbose=True)"
   ]
  },
  {
   "cell_type": "code",
   "execution_count": 58,
   "metadata": {},
   "outputs": [
    {
     "data": {
      "application/vnd.jupyter.widget-view+json": {
       "model_id": "0452e9a42cca4cb2aadc2946e1162709",
       "version_major": 2,
       "version_minor": 0
      },
      "text/plain": [
       "HBox(children=(IntProgress(value=0, max=1), HTML(value='')))"
      ]
     },
     "metadata": {},
     "output_type": "display_data"
    },
    {
     "name": "stdout",
     "output_type": "stream",
     "text": [
      "0.557176\n",
      "\n"
     ]
    },
    {
     "data": {
      "text/plain": [
       "{'id': '7f46cf82c5c897b35dbcc813b7ae3c1c',\n",
       " 'name': 'extra_trees',\n",
       " 'config': {'n_estimators': 494,\n",
       "  'max_features': None,\n",
       "  'min_samples_split': 2,\n",
       "  'min_samples_leaf': 12},\n",
       " 'score': 0.7957158607230291}"
      ]
     },
     "execution_count": 58,
     "metadata": {},
     "output_type": "execute_result"
    }
   ],
   "source": [
    "session.run(iterations=1)"
   ]
  },
  {
   "cell_type": "code",
   "execution_count": null,
   "metadata": {},
   "outputs": [
    {
     "data": {
      "application/vnd.jupyter.widget-view+json": {
       "model_id": "35fb703137d247f39e9a5fd5a977de86",
       "version_major": 2,
       "version_minor": 0
      },
      "text/plain": [
       "HBox(children=(IntProgress(value=0, max=1000), HTML(value='')))"
      ]
     },
     "metadata": {},
     "output_type": "display_data"
    },
    {
     "name": "stdout",
     "output_type": "stream",
     "text": [
      "1.238846\n",
      "0.508359\n",
      "0.837465\n",
      "0.116272\n",
      "0.207443\n",
      "1.292001\n",
      "0.359855\n",
      "0.974083\n",
      "0.505017\n",
      "0.90993\n",
      "1.190068\n",
      "1.442615\n",
      "0.996558\n",
      "0.252241\n",
      "1.137804\n",
      "1.383644\n",
      "1.382382\n",
      "0.966254\n",
      "0.646919\n",
      "0.296913\n",
      "1.109508\n",
      "0.681838\n",
      "0.804582\n",
      "0.491484\n",
      "0.939832\n",
      "0.461509\n",
      "0.339053\n",
      "0.145221\n",
      "0.079674\n",
      "1.749239\n",
      "1.234079\n",
      "0.231933\n"
     ]
    }
   ],
   "source": [
    "best_proposal = session.run(iterations=1000)"
   ]
  },
  {
   "cell_type": "code",
   "execution_count": 26,
   "metadata": {},
   "outputs": [],
   "source": [
    "import time\n",
    "import datetime"
   ]
  },
  {
   "cell_type": "code",
   "execution_count": 28,
   "metadata": {},
   "outputs": [],
   "source": [
    "start = datetime.datetime.now()"
   ]
  },
  {
   "cell_type": "code",
   "execution_count": 30,
   "metadata": {},
   "outputs": [
    {
     "data": {
      "text/plain": [
       "28.406693"
      ]
     },
     "execution_count": 30,
     "metadata": {},
     "output_type": "execute_result"
    }
   ],
   "source": [
    "(datetime.datetime.now() - start).total_seconds()"
   ]
  },
  {
   "cell_type": "code",
   "execution_count": 13,
   "metadata": {},
   "outputs": [
    {
     "data": {
      "text/plain": [
       "{'id': '818c14d6401323e048f0df3afc83ce23',\n",
       " 'name': 'extra_trees',\n",
       " 'config': {'n_estimators': 633,\n",
       "  'max_features': 'log2',\n",
       "  'min_samples_split': 2,\n",
       "  'min_samples_leaf': 1},\n",
       " 'score': 0.8681580067039918}"
      ]
     },
     "execution_count": 13,
     "metadata": {},
     "output_type": "execute_result"
    }
   ],
   "source": [
    "best_proposal"
   ]
  },
  {
   "cell_type": "code",
   "execution_count": 14,
   "metadata": {},
   "outputs": [
    {
     "data": {
      "text/plain": [
       "101"
      ]
     },
     "execution_count": 14,
     "metadata": {},
     "output_type": "execute_result"
    }
   ],
   "source": [
    "len(session.proposals)"
   ]
  },
  {
   "cell_type": "code",
   "execution_count": 15,
   "metadata": {},
   "outputs": [],
   "source": [
    "best_model = build_model(best_proposal['name'], best_proposal['config'])"
   ]
  },
  {
   "cell_type": "code",
   "execution_count": 16,
   "metadata": {},
   "outputs": [
    {
     "data": {
      "text/plain": [
       "0.8003128949624385"
      ]
     },
     "execution_count": 16,
     "metadata": {},
     "output_type": "execute_result"
    }
   ],
   "source": [
    "best_model.fit(X_train, y_train)\n",
    "pred = best_model.predict(X_test)\n",
    "\n",
    "r2_score(y_test, pred)"
   ]
  }
 ],
 "metadata": {
  "kernelspec": {
   "display_name": "Python 3",
   "language": "python",
   "name": "python3"
  },
  "language_info": {
   "codemirror_mode": {
    "name": "ipython",
    "version": 3
   },
   "file_extension": ".py",
   "mimetype": "text/x-python",
   "name": "python",
   "nbconvert_exporter": "python",
   "pygments_lexer": "ipython3",
   "version": "3.6.9"
  }
 },
 "nbformat": 4,
 "nbformat_minor": 2
}
